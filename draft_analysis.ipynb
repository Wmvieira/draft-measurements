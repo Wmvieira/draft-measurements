{
 "cells": [
  {
   "cell_type": "code",
   "execution_count": 2,
   "metadata": {},
   "outputs": [],
   "source": [
    "import pandas as pd\n",
    "import matplotlib.pyplot as plt\n",
    "import numpy as np\n",
    "df = pd.read_csv('https://query.data.world/s/eup72hk2o4nxbdoq74ljtmodt6yzki?dws=00000')"
   ]
  },
  {
   "cell_type": "code",
   "execution_count": 3,
   "metadata": {},
   "outputs": [
    {
     "name": "stdout",
     "output_type": "stream",
     "text": [
      "<class 'pandas.core.frame.DataFrame'>\n",
      "RangeIndex: 517 entries, 0 to 516\n",
      "Data columns (total 19 columns):\n",
      " #   Column                    Non-Null Count  Dtype  \n",
      "---  ------                    --------------  -----  \n",
      " 0   Unnamed: 0                517 non-null    int64  \n",
      " 1   Player                    517 non-null    object \n",
      " 2   Year                      517 non-null    int64  \n",
      " 3   Draft pick                384 non-null    float64\n",
      " 4   Height (No Shoes)         517 non-null    float64\n",
      " 5   Height (With Shoes)       516 non-null    float64\n",
      " 6   Wingspan                  517 non-null    float64\n",
      " 7   Standing reach            517 non-null    float64\n",
      " 8   Vertical (Max)            450 non-null    float64\n",
      " 9   Vertical (Max Reach)      450 non-null    float64\n",
      " 10  Vertical (No Step)        450 non-null    float64\n",
      " 11  Vertical (No Step Reach)  450 non-null    float64\n",
      " 12  Weight                    516 non-null    float64\n",
      " 13  Body Fat                  514 non-null    float64\n",
      " 14  Hand (Length)             470 non-null    float64\n",
      " 15  Hand (Width)              468 non-null    float64\n",
      " 16  Bench                     284 non-null    float64\n",
      " 17  Agility                   444 non-null    float64\n",
      " 18  Sprint                    446 non-null    float64\n",
      "dtypes: float64(16), int64(2), object(1)\n",
      "memory usage: 76.9+ KB\n"
     ]
    }
   ],
   "source": [
    "df.info()"
   ]
  },
  {
   "cell_type": "code",
   "execution_count": 23,
   "metadata": {},
   "outputs": [],
   "source": [
    "# Convert Height inch to cm\n",
    "df['Height (No Shoes)'] = df['Height (No Shoes)'] * 2.54\n",
    "df['Height (With Shoes)'] = df['Height (With Shoes)'] * 2.54"
   ]
  },
  {
   "cell_type": "code",
   "execution_count": 6,
   "metadata": {},
   "outputs": [
    {
     "name": "stdout",
     "output_type": "stream",
     "text": [
      "Correlation between Height (No Shoes) and Draft pick: -0.014822478251894675\n",
      "Correlation between Wingspan and Draft pick: 0.005657822676559564\n",
      "Correlation between Standing reach and Draft pick: -0.03487126116535953\n",
      "Correlation between Vertical (Max Reach) and Draft pick: 0.008901425274227279\n",
      "Correlation between Weight and Draft pick: 0.023790875943733573\n",
      "Correlation between Body Fat and Draft pick: -0.029790571047205124\n",
      "Correlation between Agility and Draft pick: 0.08795240740290342\n",
      "Correlation between Sprint and Draft pick: 0.09630689341151828\n"
     ]
    }
   ],
   "source": [
    "columns = ['Height (No Shoes)', 'Wingspan', 'Standing reach', 'Vertical (Max Reach)', 'Weight', 'Body Fat', 'Agility', 'Sprint']\n",
    "\n",
    "for column in columns:\n",
    "    # Remove draft picks with no data for the current column\n",
    "    df_temp = df.dropna(subset=[column])\n",
    "\n",
    "    draft_pick = df_temp['Draft pick'].dropna()\n",
    "    attribute = df_temp[column].dropna()\n",
    "\n",
    "    # Ensure both arrays are of the same length\n",
    "    min_length = min(len(draft_pick), len(attribute))\n",
    "\n",
    "    draft_pick = draft_pick[:min_length]\n",
    "    attribute = attribute[:min_length]\n",
    "\n",
    "    # Calculate correlation\n",
    "    correlation = np.corrcoef(draft_pick, attribute)[0, 1]\n",
    "\n",
    "    print(f'Correlation between {column} and Draft pick: {correlation}')"
   ]
  }
 ],
 "metadata": {
  "kernelspec": {
   "display_name": "Python 3",
   "language": "python",
   "name": "python3"
  },
  "language_info": {
   "codemirror_mode": {
    "name": "ipython",
    "version": 3
   },
   "file_extension": ".py",
   "mimetype": "text/x-python",
   "name": "python",
   "nbconvert_exporter": "python",
   "pygments_lexer": "ipython3",
   "version": "3.9.6"
  }
 },
 "nbformat": 4,
 "nbformat_minor": 2
}
