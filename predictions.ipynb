{
 "cells": [
  {
   "cell_type": "code",
   "execution_count": 218,
   "metadata": {},
   "outputs": [],
   "source": [
    "import pandas as pd\n",
    "import numpy as np\n",
    "from sklearn.model_selection import train_test_split\n",
    "from sklearn.metrics import recall_score, precision_score, f1_score, accuracy_score, confusion_matrix\n",
    "from sklearn.pipeline import make_pipeline\n",
    "from sklearn.tree import DecisionTreeClassifier\n",
    "from sklearn.impute import SimpleImputer\n",
    "from sklearn.neighbors import KNeighborsClassifier\n",
    "from sklearn.linear_model import LogisticRegression"
   ]
  },
  {
   "cell_type": "markdown",
   "metadata": {},
   "source": [
    "## Load and Refine Dataset"
   ]
  },
  {
   "cell_type": "code",
   "execution_count": 220,
   "metadata": {},
   "outputs": [],
   "source": [
    "NUMERIC_COLUMNS = ['FG', 'FGA', 'FG%', '3P', '3PA', '3P%', '2P', '2PA', '2P%', 'FT', 'FTA', 'FT%', 'eFG%', 'TRB', 'AST', 'STL', 'BLK', 'PTS']\n",
    "POSITIONS = ['PG', 'SG', 'SF', 'PF', 'C']\n",
    "\n",
    "df = pd.read_csv('./nba_data_processed.csv')\n",
    "df = df[df['Pos'].notna()]\n",
    "\n",
    "# Keep only the columns needed\n",
    "df = df[['Player', 'Pos', 'G', 'MP'] + NUMERIC_COLUMNS]\n",
    "\n",
    "# Normalize position values\n",
    "def normalize(x):\n",
    "    if ('-' in x):\n",
    "        return x[0:x.find('-')]\n",
    "    return x\n",
    "\n",
    "df['Pos'] = df['Pos'].apply(normalize)\n",
    "\n",
    "# Group up players that have played for multiple teams\n",
    "df = df.groupby(['Player', 'Pos']).mean()\n",
    "df = df.reset_index()\n",
    "\n",
    "# The original columns are distributed in \"value/game\", so we convert them to \"value/minute\"\n",
    "games_played = df['G']\n",
    "minutes_played = df['MP'] * games_played\n",
    "\n",
    "df = df.drop(['Player', 'G', 'MP'], axis=1)\n",
    "\n",
    "for column in NUMERIC_COLUMNS:\n",
    "    df[column] = (df[column] * games_played) / minutes_played"
   ]
  },
  {
   "cell_type": "markdown",
   "metadata": {},
   "source": [
    "## Define prediction algorithms"
   ]
  },
  {
   "cell_type": "code",
   "execution_count": 221,
   "metadata": {},
   "outputs": [],
   "source": [
    "RANDOM_STATE = 42\n",
    "\n",
    "def prepare(x_cols, y_cols):\n",
    "    global X, y, X_train, X_test, y_train, y_test\n",
    "    \n",
    "    X = df[x_cols]\n",
    "    y = df[y_cols]\n",
    "    X_train, X_test, y_train, y_test = train_test_split(X, y, test_size=0.2, random_state=RANDOM_STATE)\n",
    "\n",
    "def run_predictions():\n",
    "    dt_prediction = decision_tree()\n",
    "    knn_prediction = knn()\n",
    "    lr_prediction = logistic_regression()\n",
    "\n",
    "    print(\"Decision Tree:\")\n",
    "    print_results(dt_prediction)\n",
    "\n",
    "    print(\"KNN:\")\n",
    "    print_results(knn_prediction)\n",
    "\n",
    "    print(\"Logistic Regression:\")\n",
    "    print_results(lr_prediction)\n",
    "\n",
    "def decision_tree():\n",
    "    clf = DecisionTreeClassifier(random_state=RANDOM_STATE)\n",
    "    return predict(clf)\n",
    "\n",
    "def knn():\n",
    "    pipeline = make_pipeline(SimpleImputer(), KNeighborsClassifier(n_neighbors=5))\n",
    "    return predict(pipeline)\n",
    "\n",
    "def logistic_regression():\n",
    "    pipeline = make_pipeline(SimpleImputer(), LogisticRegression(max_iter=1000))\n",
    "    return predict(pipeline)\n",
    "\n",
    "def predict(classifier):\n",
    "    classifier.fit(X_train, y_train)\n",
    "    y_pred = classifier.predict(X_test)\n",
    "    return y_pred\n",
    "\n",
    "def print_results(y_pred):\n",
    "    accuracy = accuracy_score(y_test, y_pred)\n",
    "    recall = recall_score(y_test, y_pred, average='weighted', labels=np.unique(y_pred))\n",
    "    precision = precision_score(y_test, y_pred, average='weighted', labels=np.unique(y_pred))\n",
    "    f1 = f1_score(y_test, y_pred, average='weighted', labels=np.unique(y_pred))\n",
    "    \n",
    "    print(f\"Accuracy: {accuracy:.3f} | Recall: {recall:.3f} | Precision: {precision:.3f} | F1-Score: {f1:.3f}\\n\")"
   ]
  },
  {
   "cell_type": "markdown",
   "metadata": {},
   "source": [
    "## Analyzing results"
   ]
  },
  {
   "cell_type": "code",
   "execution_count": 222,
   "metadata": {},
   "outputs": [
    {
     "name": "stdout",
     "output_type": "stream",
     "text": [
      "Decision Tree:\n",
      "Accuracy: 0.400 | Recall: 0.400 | Precision: 0.432 | F1-Score: 0.411\n",
      "\n",
      "KNN:\n",
      "Accuracy: 0.473 | Recall: 0.473 | Precision: 0.494 | F1-Score: 0.481\n",
      "\n",
      "Logistic Regression:\n",
      "Accuracy: 0.564 | Recall: 0.564 | Precision: 0.653 | F1-Score: 0.541\n",
      "\n"
     ]
    }
   ],
   "source": [
    "# Testing with all columns\n",
    "prepare(x_cols=['FG', 'FGA', 'FG%', '3P', '3PA', '3P%', '2P', '2PA', '2P%', 'FT', 'FTA', 'FT%', 'eFG%', 'TRB', 'AST', 'STL', 'BLK', 'PTS'], y_cols='Pos')\n",
    "run_predictions()"
   ]
  },
  {
   "cell_type": "code",
   "execution_count": 223,
   "metadata": {},
   "outputs": [
    {
     "name": "stdout",
     "output_type": "stream",
     "text": [
      "Decision Tree:\n",
      "Accuracy: 0.400 | Recall: 0.400 | Precision: 0.420 | F1-Score: 0.406\n",
      "\n",
      "KNN:\n",
      "Accuracy: 0.500 | Recall: 0.500 | Precision: 0.522 | F1-Score: 0.503\n",
      "\n",
      "Logistic Regression:\n",
      "Accuracy: 0.564 | Recall: 0.564 | Precision: 0.679 | F1-Score: 0.538\n",
      "\n"
     ]
    }
   ],
   "source": [
    "# Removing 'PTS'\n",
    "prepare(x_cols=['FG', 'FGA', 'FG%', '3P', '3PA', '3P%', '2P', '2PA', '2P%', 'FT', 'FTA', 'FT%', 'eFG%', 'TRB', 'AST', 'STL', 'BLK'], y_cols='Pos')\n",
    "run_predictions()"
   ]
  },
  {
   "cell_type": "code",
   "execution_count": 224,
   "metadata": {},
   "outputs": [
    {
     "name": "stdout",
     "output_type": "stream",
     "text": [
      "Decision Tree:\n",
      "Accuracy: 0.409 | Recall: 0.409 | Precision: 0.504 | F1-Score: 0.436\n",
      "\n",
      "KNN:\n",
      "Accuracy: 0.573 | Recall: 0.573 | Precision: 0.632 | F1-Score: 0.592\n",
      "\n",
      "Logistic Regression:\n",
      "Accuracy: 0.564 | Recall: 0.667 | Precision: 0.693 | F1-Score: 0.620\n",
      "\n"
     ]
    }
   ],
   "source": [
    "# Keeping only \"Game Impact\" columns\n",
    "prepare(x_cols=['TRB', 'AST', 'STL', 'BLK'], y_cols='Pos')\n",
    "run_predictions()"
   ]
  },
  {
   "cell_type": "code",
   "execution_count": 225,
   "metadata": {},
   "outputs": [
    {
     "name": "stdout",
     "output_type": "stream",
     "text": [
      "Decision Tree:\n",
      "Accuracy: 0.400 | Recall: 0.400 | Precision: 0.466 | F1-Score: 0.422\n",
      "\n",
      "KNN:\n",
      "Accuracy: 0.609 | Recall: 0.609 | Precision: 0.632 | F1-Score: 0.615\n",
      "\n",
      "Logistic Regression:\n",
      "Accuracy: 0.573 | Recall: 0.677 | Precision: 0.695 | F1-Score: 0.633\n",
      "\n"
     ]
    }
   ],
   "source": [
    "# Including '2P%' and '3P%'\n",
    "prepare(x_cols=['TRB', 'AST', 'STL', 'BLK', '2P%', '3P%'], y_cols='Pos')\n",
    "run_predictions()"
   ]
  },
  {
   "cell_type": "markdown",
   "metadata": {},
   "source": [
    "## Confusion Matrix"
   ]
  },
  {
   "cell_type": "code",
   "execution_count": 226,
   "metadata": {},
   "outputs": [
    {
     "name": "stdout",
     "output_type": "stream",
     "text": [
      "Decision Tree: \n",
      "[[16 11  0  6  1]\n",
      " [ 4  4  0  1  2]\n",
      " [ 0  0 12  5  4]\n",
      " [ 2  7  1  2  5]\n",
      " [ 2  6  7  2 10]]\n",
      "\n",
      "KNN: \n",
      "[[30  2  0  2  0]\n",
      " [ 5  3  1  2  0]\n",
      " [ 0  1 14  2  4]\n",
      " [ 0  8  2  6  1]\n",
      " [ 2  2  4  5 14]]\n",
      "\n",
      "Logistic Regression: \n",
      "[[26  5  0  0  3]\n",
      " [ 3  3  0  0  5]\n",
      " [ 0  0  9  0 12]\n",
      " [ 1  3  0  0 13]\n",
      " [ 0  2  0  0 25]]\n"
     ]
    }
   ],
   "source": [
    "prepare(x_cols=['TRB', 'AST', 'STL', 'BLK', '2P%', '3P%'], y_cols='Pos')\n",
    "\n",
    "dt_prediction = decision_tree()\n",
    "knn_prediction = knn()\n",
    "lr_prediction = logistic_regression()\n",
    "\n",
    "cm_dt = confusion_matrix(y_test, dt_prediction)\n",
    "cm_knn = confusion_matrix(y_test, knn_prediction)\n",
    "cm_lr = confusion_matrix(y_test, lr_prediction)\n",
    "\n",
    "print(f\"Decision Tree: \\n{cm_dt}\\n\")\n",
    "print(f\"KNN: \\n{cm_knn}\\n\")\n",
    "print(f\"Logistic Regression: \\n{cm_lr}\")"
   ]
  }
 ],
 "metadata": {
  "kernelspec": {
   "display_name": "Python 3",
   "language": "python",
   "name": "python3"
  },
  "language_info": {
   "codemirror_mode": {
    "name": "ipython",
    "version": 3
   },
   "file_extension": ".py",
   "mimetype": "text/x-python",
   "name": "python",
   "nbconvert_exporter": "python",
   "pygments_lexer": "ipython3",
   "version": "3.11.5"
  }
 },
 "nbformat": 4,
 "nbformat_minor": 2
}
